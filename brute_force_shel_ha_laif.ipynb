{
 "cells": [
  {
   "cell_type": "code",
   "execution_count": 1,
   "metadata": {},
   "outputs": [],
   "source": [
    "from data_utils import *\n",
    "import numpy as np\n",
    "import progressbar\n",
    "from fill_missing_values import *"
   ]
  },
  {
   "cell_type": "code",
   "execution_count": 19,
   "metadata": {},
   "outputs": [],
   "source": [
    "X_train, Y_train = get_X_Y_train()\n",
    "# X_train = fill_with_num(X_train, 1)"
   ]
  },
  {
   "cell_type": "code",
   "execution_count": 34,
   "metadata": {},
   "outputs": [
    {
     "name": "stdout",
     "output_type": "stream",
     "text": [
      "[33 19 60  5 17 18 28 22 53 58]\n",
      "[0.43386046 0.42249733 0.37764935 0.36932691 0.36509914 0.33425386\n",
      " 0.31673693 0.29555348 0.29537757 0.2825231 ]\n"
     ]
    },
    {
     "data": {
      "text/plain": [
       "(array([ 5.,  4.,  7., 11., 14., 10., 19.,  8.,  3.,  3.]),\n",
       " array([-0.13856067, -0.08131855, -0.02407644,  0.03316567,  0.09040778,\n",
       "         0.1476499 ,  0.20489201,  0.26213412,  0.31937624,  0.37661835,\n",
       "         0.43386046]),\n",
       " <a list of 10 Patch objects>)"
      ]
     },
     "execution_count": 34,
     "metadata": {},
     "output_type": "execute_result"
    },
    {
     "data": {
      "image/png": "[encoded data removed]",
      "text/plain": [
       "<Figure size 432x288 with 1 Axes>"
      ]
     },
     "metadata": {},
     "output_type": "display_data"
    }
   ],
   "source": [
    "import matplotlib.pyplot as plt\n",
    "import pandas as pd\n",
    "from scipy.stats.stats import pearsonr   \n",
    "\n",
    "def inn(X,col):\n",
    "    res = []\n",
    "    mask = ~np.isnan(X[:,1,col])\n",
    "    return mask\n",
    "        \n",
    "res = []\n",
    "for i in range(15,99):\n",
    "    res1 = []\n",
    "    mask_i = inn(X_train,i)\n",
    "    res.append(pearsonr(X_train[mask_i,1,i],Y_train[mask_i,1])[0])\n",
    "top10 = np.array(res).argsort()[-10:][::-1]\n",
    "print(top10)\n",
    "print(np.array(res)[top10])\n",
    "\n",
    "plt.hist(res)\n",
    "#     np.histogram(res)\n",
    "    #plt.matshow(pd.DataFrame(res))"
   ]
  },
  {
   "cell_type": "code",
   "execution_count": 3,
   "metadata": {},
   "outputs": [],
   "source": [
    "X_train, Y_train, X_validation, Y_validation = random_partition(X_train, Y_train)"
   ]
  },
  {
   "cell_type": "code",
   "execution_count": 3,
   "metadata": {},
   "outputs": [],
   "source": [
    "def distance(a,b):\n",
    "    return np.linalg.norm(a-b)"
   ]
  },
  {
   "cell_type": "code",
   "execution_count": 4,
   "metadata": {},
   "outputs": [],
   "source": [
    "def vectorize(user_X):\n",
    "    return user_X[1]"
   ]
  },
  {
   "cell_type": "code",
   "execution_count": 5,
   "metadata": {},
   "outputs": [],
   "source": [
    "def find_top_n_closest_users_indexes(n, X_train, target_user_X):\n",
    "    target_user_vector = vectorize(target_user_X)\n",
    "    distances = np.array([distance(vectorize(user), target_user_vector) for user in X_train])\n",
    "    return distances.argsort()[:n]"
   ]
  },
  {
   "cell_type": "code",
   "execution_count": 6,
   "metadata": {},
   "outputs": [],
   "source": [
    "def score_R2(y_predicted,y_actual):\n",
    "    from sklearn.metrics import mean_squared_error\n",
    "    from math import sqrt\n",
    "    return sqrt(mean_squared_error(y_actual, y_predicted))"
   ]
  },
  {
   "cell_type": "code",
   "execution_count": 8,
   "metadata": {},
   "outputs": [],
   "source": [
    "results = {}"
   ]
  },
  {
   "cell_type": "code",
   "execution_count": 9,
   "metadata": {},
   "outputs": [
    {
     "name": "stderr",
     "output_type": "stream",
     "text": [
      "100% (100 of 100) |######################| Elapsed Time: 0:00:06 Time:  0:00:06\n"
     ]
    }
   ],
   "source": [
    "N_USERS = 100\n",
    "top_n = 15\n",
    "\n",
    "Y_preds = []\n",
    "for i in progressbar.progressbar(range(N_USERS)):\n",
    "    target_user_X = X_validation[i]\n",
    "    \n",
    "    ten_closest_users_indexes = find_top_n_closest_users_indexes(top_n, X_train, target_user_X)\n",
    "    Y_preds.append(np.mean(Y_train[ten_closest_users_indexes,1]))\n",
    "\n",
    "results[top_n] = score_R2(Y_preds,Y_validation[:N_USERS,1])\n",
    "#     print(\"USER\")\n",
    "#     print(target_user_X[1,:14])\n",
    "#     print(\"SIMILAR USERS\")\n",
    "#     print(X_train[ten_closest_users_indexes][:,1,:14])\n",
    "\n",
    "#     print(Y_validation[user_number,1])\n",
    "#     print(np.mean(Y_train[ten_closest_users_indexes,1]))"
   ]
  },
  {
   "cell_type": "code",
   "execution_count": 10,
   "metadata": {},
   "outputs": [
    {
     "name": "stdout",
     "output_type": "stream",
     "text": [
      "{15: 0.910628598521068}\n"
     ]
    }
   ],
   "source": [
    "print(results)"
   ]
  },
  {
   "cell_type": "code",
   "execution_count": 51,
   "metadata": {},
   "outputs": [
    {
     "name": "stdout",
     "output_type": "stream",
     "text": [
      "8308\n"
     ]
    },
    {
     "data": {
      "text/plain": [
       "0.9563203989082961"
      ]
     },
     "execution_count": 51,
     "metadata": {},
     "output_type": "execute_result"
    }
   ],
   "source": [
    "X_train, Y_train = get_X_Y_train()\n",
    "# X_train = fill_with_num(X_train, 1)\n",
    "# X_train = fill_with_mean(X_train)\n",
    "\n",
    "with_33 = inn(X_train,33)\n",
    "m33 = np.mean(X_train[with_33,1,33])\n",
    "X_train, Y_train, X_validation, Y_validation = random_partition(X_train, Y_train)\n",
    "\n",
    "print(np.sum(with_33))\n",
    "\n",
    "# score_R2(X_validation[with_33,1,33], Y_validation[with_33,1])\n",
    "score_R2(np.repeat(m33,len(Y_validation)), Y_validation[:,1])\n"
   ]
  },
  {
   "cell_type": "code",
   "execution_count": 19,
   "metadata": {},
   "outputs": [
    {
     "name": "stderr",
     "output_type": "stream",
     "text": [
      "  0% (1 of 10000) |                      | Elapsed Time: 0:00:00 ETA:   2:29:52"
     ]
    },
    {
     "name": "stdout",
     "output_type": "stream",
     "text": [
      "1.4545177755061998\n"
     ]
    },
    {
     "name": "stderr",
     "output_type": "stream",
     "text": [
      "  0% (51 of 10000) |                     | Elapsed Time: 0:00:45 ETA:   2:16:55"
     ]
    },
    {
     "name": "stdout",
     "output_type": "stream",
     "text": [
      "0.7790061931099609\n"
     ]
    },
    {
     "name": "stderr",
     "output_type": "stream",
     "text": [
      "  1% (101 of 10000) |                    | Elapsed Time: 0:01:28 ETA:   2:22:18"
     ]
    },
    {
     "name": "stdout",
     "output_type": "stream",
     "text": [
      "0.7485301215076657\n"
     ]
    },
    {
     "name": "stderr",
     "output_type": "stream",
     "text": [
      "  1% (151 of 10000) |                    | Elapsed Time: 0:02:10 ETA:   2:25:21"
     ]
    },
    {
     "name": "stdout",
     "output_type": "stream",
     "text": [
      "0.70950839714878\n"
     ]
    },
    {
     "name": "stderr",
     "output_type": "stream",
     "text": [
      "  2% (201 of 10000) |                    | Elapsed Time: 0:02:54 ETA:   2:22:36"
     ]
    },
    {
     "name": "stdout",
     "output_type": "stream",
     "text": [
      "0.7442926534781895\n"
     ]
    },
    {
     "name": "stderr",
     "output_type": "stream",
     "text": [
      "  2% (251 of 10000) |                    | Elapsed Time: 0:03:38 ETA:   2:19:11"
     ]
    },
    {
     "name": "stdout",
     "output_type": "stream",
     "text": [
      "0.7562480533848182\n"
     ]
    },
    {
     "name": "stderr",
     "output_type": "stream",
     "text": [
      "  3% (301 of 10000) |                    | Elapsed Time: 0:04:20 ETA:   2:16:13"
     ]
    },
    {
     "name": "stdout",
     "output_type": "stream",
     "text": [
      "0.7544744625526614\n"
     ]
    },
    {
     "name": "stderr",
     "output_type": "stream",
     "text": [
      "  3% (351 of 10000) |                    | Elapsed Time: 0:05:03 ETA:   2:14:04"
     ]
    },
    {
     "name": "stdout",
     "output_type": "stream",
     "text": [
      "0.7526344640832947\n"
     ]
    },
    {
     "name": "stderr",
     "output_type": "stream",
     "text": [
      "  4% (401 of 10000) |                    | Elapsed Time: 0:05:45 ETA:   2:11:39"
     ]
    },
    {
     "name": "stdout",
     "output_type": "stream",
     "text": [
      "0.7671721439823326\n"
     ]
    },
    {
     "name": "stderr",
     "output_type": "stream",
     "text": [
      "  4% (451 of 10000) |                    | Elapsed Time: 0:06:29 ETA:   2:10:50"
     ]
    },
    {
     "name": "stdout",
     "output_type": "stream",
     "text": [
      "0.7806272936141841\n"
     ]
    },
    {
     "name": "stderr",
     "output_type": "stream",
     "text": [
      "  5% (501 of 10000) |#                   | Elapsed Time: 0:07:13 ETA:   2:30:29"
     ]
    },
    {
     "name": "stdout",
     "output_type": "stream",
     "text": [
      "0.7818415669083439\n"
     ]
    },
    {
     "name": "stderr",
     "output_type": "stream",
     "text": [
      "  5% (551 of 10000) |#                   | Elapsed Time: 0:07:56 ETA:   2:25:08"
     ]
    },
    {
     "name": "stdout",
     "output_type": "stream",
     "text": [
      "0.7766376905684671\n"
     ]
    },
    {
     "name": "stderr",
     "output_type": "stream",
     "text": [
      "  5% (591 of 10000) |#                   | Elapsed Time: 0:08:31 ETA:   2:23:12"
     ]
    },
    {
     "ename": "KeyboardInterrupt",
     "evalue": "",
     "output_type": "error",
     "traceback": [
      "\u001b[0;31m---------------------------------------------------------------------------\u001b[0m",
      "\u001b[0;31mKeyboardInterrupt\u001b[0m                         Traceback (most recent call last)",
      "\u001b[0;32m<ipython-input-19-bae8e4509b8b>\u001b[0m in \u001b[0;36m<module>\u001b[0;34m()\u001b[0m\n\u001b[1;32m     18\u001b[0m \u001b[0mall_true\u001b[0m \u001b[0;34m=\u001b[0m \u001b[0;34m[\u001b[0m\u001b[0;34m]\u001b[0m\u001b[0;34m\u001b[0m\u001b[0m\n\u001b[1;32m     19\u001b[0m \u001b[0;32mfor\u001b[0m \u001b[0m_\u001b[0m \u001b[0;32min\u001b[0m \u001b[0mprogressbar\u001b[0m\u001b[0;34m.\u001b[0m\u001b[0mprogressbar\u001b[0m\u001b[0;34m(\u001b[0m\u001b[0mrange\u001b[0m\u001b[0;34m(\u001b[0m\u001b[0;36m10000\u001b[0m\u001b[0;34m)\u001b[0m\u001b[0;34m)\u001b[0m\u001b[0;34m:\u001b[0m\u001b[0;34m\u001b[0m\u001b[0m\n\u001b[0;32m---> 20\u001b[0;31m     \u001b[0mX_train\u001b[0m\u001b[0;34m,\u001b[0m \u001b[0mY_train\u001b[0m \u001b[0;34m=\u001b[0m \u001b[0mget_X_Y_train\u001b[0m\u001b[0;34m(\u001b[0m\u001b[0;34m)\u001b[0m\u001b[0;34m\u001b[0m\u001b[0m\n\u001b[0m\u001b[1;32m     21\u001b[0m     \u001b[0mX_train\u001b[0m \u001b[0;34m=\u001b[0m \u001b[0mfill_with_num\u001b[0m\u001b[0;34m(\u001b[0m\u001b[0mX_train\u001b[0m\u001b[0;34m,\u001b[0m \u001b[0;36m1\u001b[0m\u001b[0;34m)\u001b[0m\u001b[0;34m\u001b[0m\u001b[0m\n\u001b[1;32m     22\u001b[0m     \u001b[0;31m# X_train = fill_with_mean(X_train)\u001b[0m\u001b[0;34m\u001b[0m\u001b[0;34m\u001b[0m\u001b[0m\n",
      "\u001b[0;32m~/School/Statistical Learning/competition/data_utils.py\u001b[0m in \u001b[0;36mget_X_Y_train\u001b[0;34m()\u001b[0m\n\u001b[1;32m     28\u001b[0m \u001b[0;32mdef\u001b[0m \u001b[0mget_X_Y_train\u001b[0m\u001b[0;34m(\u001b[0m\u001b[0;34m)\u001b[0m\u001b[0;34m:\u001b[0m\u001b[0;34m\u001b[0m\u001b[0m\n\u001b[1;32m     29\u001b[0m     \u001b[0mY\u001b[0m \u001b[0;34m=\u001b[0m \u001b[0m_get_Y\u001b[0m\u001b[0;34m(\u001b[0m\u001b[0mtrain\u001b[0m\u001b[0;34m=\u001b[0m\u001b[0;32mTrue\u001b[0m\u001b[0;34m)\u001b[0m\u001b[0;34m\u001b[0m\u001b[0m\n\u001b[0;32m---> 30\u001b[0;31m     \u001b[0mX\u001b[0m \u001b[0;34m=\u001b[0m \u001b[0m_get_X\u001b[0m\u001b[0;34m(\u001b[0m\u001b[0mtrain\u001b[0m\u001b[0;34m=\u001b[0m\u001b[0;32mTrue\u001b[0m\u001b[0;34m)\u001b[0m\u001b[0;34m\u001b[0m\u001b[0m\n\u001b[0m\u001b[1;32m     31\u001b[0m \u001b[0;34m\u001b[0m\u001b[0m\n\u001b[1;32m     32\u001b[0m     \u001b[0;32massert\u001b[0m \u001b[0mX\u001b[0m\u001b[0;34m.\u001b[0m\u001b[0mshape\u001b[0m \u001b[0;34m==\u001b[0m \u001b[0;34m(\u001b[0m\u001b[0mNUMBER_OF_USERS_TRAIN\u001b[0m\u001b[0;34m,\u001b[0m \u001b[0;36m2\u001b[0m\u001b[0;34m,\u001b[0m \u001b[0mNUMBER_OF_MOVIES\u001b[0m\u001b[0;34m)\u001b[0m\u001b[0;34m\u001b[0m\u001b[0m\n",
      "\u001b[0;32m~/School/Statistical Learning/competition/data_utils.py\u001b[0m in \u001b[0;36m_get_X\u001b[0;34m(train)\u001b[0m\n\u001b[1;32m    105\u001b[0m     \u001b[0;32mwith\u001b[0m \u001b[0mopen\u001b[0m\u001b[0;34m(\u001b[0m\u001b[0m_get_data_file_full_path_by_name\u001b[0m\u001b[0;34m(\u001b[0m\u001b[0mratings_file_name\u001b[0m\u001b[0;34m)\u001b[0m\u001b[0;34m)\u001b[0m \u001b[0;32mas\u001b[0m \u001b[0mf\u001b[0m\u001b[0;34m:\u001b[0m\u001b[0;34m\u001b[0m\u001b[0m\n\u001b[1;32m    106\u001b[0m         \u001b[0;32mfor\u001b[0m \u001b[0mline_number\u001b[0m\u001b[0;34m,\u001b[0m \u001b[0mline\u001b[0m \u001b[0;32min\u001b[0m \u001b[0menumerate\u001b[0m\u001b[0;34m(\u001b[0m\u001b[0mf\u001b[0m\u001b[0;34m)\u001b[0m\u001b[0;34m:\u001b[0m\u001b[0;34m\u001b[0m\u001b[0m\n\u001b[0;32m--> 107\u001b[0;31m             \u001b[0mratings\u001b[0m \u001b[0;34m=\u001b[0m \u001b[0;34m[\u001b[0m\u001b[0mint\u001b[0m\u001b[0;34m(\u001b[0m\u001b[0mrating\u001b[0m\u001b[0;34m)\u001b[0m \u001b[0;32mfor\u001b[0m \u001b[0mrating\u001b[0m \u001b[0;32min\u001b[0m \u001b[0mline\u001b[0m\u001b[0;34m.\u001b[0m\u001b[0msplit\u001b[0m\u001b[0;34m(\u001b[0m\u001b[0;34m)\u001b[0m\u001b[0;34m]\u001b[0m\u001b[0;34m\u001b[0m\u001b[0m\n\u001b[0m\u001b[1;32m    108\u001b[0m             \u001b[0;32massert\u001b[0m \u001b[0mlen\u001b[0m\u001b[0;34m(\u001b[0m\u001b[0mratings\u001b[0m\u001b[0;34m)\u001b[0m \u001b[0;34m==\u001b[0m \u001b[0mNUMBER_OF_MOVIES\u001b[0m\u001b[0;34m\u001b[0m\u001b[0m\n\u001b[1;32m    109\u001b[0m             \u001b[0mX\u001b[0m\u001b[0;34m[\u001b[0m\u001b[0mline_number\u001b[0m\u001b[0;34m]\u001b[0m\u001b[0;34m.\u001b[0m\u001b[0mappend\u001b[0m\u001b[0;34m(\u001b[0m\u001b[0mratings\u001b[0m\u001b[0;34m)\u001b[0m\u001b[0;34m\u001b[0m\u001b[0m\n",
      "\u001b[0;32m~/School/Statistical Learning/competition/data_utils.py\u001b[0m in \u001b[0;36m<listcomp>\u001b[0;34m(.0)\u001b[0m\n\u001b[1;32m    105\u001b[0m     \u001b[0;32mwith\u001b[0m \u001b[0mopen\u001b[0m\u001b[0;34m(\u001b[0m\u001b[0m_get_data_file_full_path_by_name\u001b[0m\u001b[0;34m(\u001b[0m\u001b[0mratings_file_name\u001b[0m\u001b[0;34m)\u001b[0m\u001b[0;34m)\u001b[0m \u001b[0;32mas\u001b[0m \u001b[0mf\u001b[0m\u001b[0;34m:\u001b[0m\u001b[0;34m\u001b[0m\u001b[0m\n\u001b[1;32m    106\u001b[0m         \u001b[0;32mfor\u001b[0m \u001b[0mline_number\u001b[0m\u001b[0;34m,\u001b[0m \u001b[0mline\u001b[0m \u001b[0;32min\u001b[0m \u001b[0menumerate\u001b[0m\u001b[0;34m(\u001b[0m\u001b[0mf\u001b[0m\u001b[0;34m)\u001b[0m\u001b[0;34m:\u001b[0m\u001b[0;34m\u001b[0m\u001b[0m\n\u001b[0;32m--> 107\u001b[0;31m             \u001b[0mratings\u001b[0m \u001b[0;34m=\u001b[0m \u001b[0;34m[\u001b[0m\u001b[0mint\u001b[0m\u001b[0;34m(\u001b[0m\u001b[0mrating\u001b[0m\u001b[0;34m)\u001b[0m \u001b[0;32mfor\u001b[0m \u001b[0mrating\u001b[0m \u001b[0;32min\u001b[0m \u001b[0mline\u001b[0m\u001b[0;34m.\u001b[0m\u001b[0msplit\u001b[0m\u001b[0;34m(\u001b[0m\u001b[0;34m)\u001b[0m\u001b[0;34m]\u001b[0m\u001b[0;34m\u001b[0m\u001b[0m\n\u001b[0m\u001b[1;32m    108\u001b[0m             \u001b[0;32massert\u001b[0m \u001b[0mlen\u001b[0m\u001b[0;34m(\u001b[0m\u001b[0mratings\u001b[0m\u001b[0;34m)\u001b[0m \u001b[0;34m==\u001b[0m \u001b[0mNUMBER_OF_MOVIES\u001b[0m\u001b[0;34m\u001b[0m\u001b[0m\n\u001b[1;32m    109\u001b[0m             \u001b[0mX\u001b[0m\u001b[0;34m[\u001b[0m\u001b[0mline_number\u001b[0m\u001b[0;34m]\u001b[0m\u001b[0;34m.\u001b[0m\u001b[0mappend\u001b[0m\u001b[0;34m(\u001b[0m\u001b[0mratings\u001b[0m\u001b[0;34m)\u001b[0m\u001b[0;34m\u001b[0m\u001b[0m\n",
      "\u001b[0;31mKeyboardInterrupt\u001b[0m: "
     ]
    }
   ],
   "source": [
    "from sklearn.linear_model import LinearRegression\n",
    "\n",
    "# class NaiveRegresor(object):\n",
    "#     def __init__(self):\n",
    "#         self._reg = LinearRegression()\n",
    "\n",
    "#     def fit(self, X, Y):\n",
    "#         assert len(X.shape) == 3\n",
    "#         X = X.reshape(X.shape[0], -1)\n",
    "#         self._reg = self._reg.fit(X, Y[:, 1])\n",
    "#         return self\n",
    "\n",
    "#     def predict(self, X, Y):\n",
    "#         return self._reg.predict(X.reshape(X.shape[0], -1))\n",
    "\n",
    "results = []\n",
    "all_preds = []\n",
    "all_true = []\n",
    "for _ in progressbar.progressbar(range(10000)):\n",
    "    X_train, Y_train = get_X_Y_train()\n",
    "    X_train = fill_with_num(X_train, 1)\n",
    "    # X_train = fill_with_mean(X_train)\n",
    "    X_train, Y_train, X_validation, Y_validation = random_partition_one(X_train, Y_train)\n",
    "\n",
    "    weights = np.array(range(1,len(X_train)+1), dtype='float')\n",
    "    weights /= np.sum(weights)\n",
    "\n",
    "#     Y_preds = []\n",
    "#     for i in range(len(X_validation)):\n",
    "    target_user_X = X_validation[0]\n",
    "\n",
    "    sorted_user_indexes = find_top_n_closest_users_indexes(len(X_train), X_train, target_user_X)\n",
    "    lr = LinearRegression()\n",
    "    lr.fit(X_train[sorted_user_indexes,1], Y_train[sorted_user_indexes,1], sample_weight=weights[])\n",
    "#     Y_preds.append(lr.predict(target_user_X[1].reshape(1,-1)))\n",
    "    all_preds.append(lr.predict(target_user_X[1].reshape(1,-1))[0])\n",
    "    all_true.append(Y_validation[0,1])\n",
    "    if _ % 50 == 0:\n",
    "        print(score_R2(all_preds, all_true))\n",
    "#     results.append(score_R2(Y_preds,Y_validation))\n",
    "    \n",
    "# print(np.mean(results))\n",
    "#     print(\"USER\")\n",
    "#     print(target_user_X[1,:14])\n",
    "#     print(\"SIMILAR USERS\")\n",
    "#     print(X_train[ten_closest_users_indexes][:,1,:14])\n",
    "\n",
    "#     print(Y_validation[user_number,1])\n",
    "#     print(np.mean(Y_train[ten_closest_users_indexes,1]))"
   ]
  },
  {
   "cell_type": "code",
   "execution_count": null,
   "metadata": {},
   "outputs": [],
   "source": [
    "\n",
    "\n"
   ]
  },
  {
   "cell_type": "code",
   "execution_count": null,
   "metadata": {},
   "outputs": [],
   "source": [
    "results = np.array(results)\n",
    "\n",
    "print(np.sum(results < 0.74))\n",
    "results"
   ]
  },
  {
   "cell_type": "code",
   "execution_count": null,
   "metadata": {},
   "outputs": [],
   "source": [
    "print(np.mean(results))\n",
    "print(np.sqrt(np.mean([i**2 for i in results])))"
   ]
  },
  {
   "cell_type": "code",
   "execution_count": null,
   "metadata": {},
   "outputs": [],
   "source": []
  }
 ],
 "metadata": {
  "kernelspec": {
   "display_name": "Python 3",
   "language": "python",
   "name": "python3"
  },
  "language_info": {
   "codemirror_mode": {
    "name": "ipython",
    "version": 3
   },
   "file_extension": ".py",
   "mimetype": "text/x-python",
   "name": "python",
   "nbconvert_exporter": "python",
   "pygments_lexer": "ipython3",
   "version": "3.6.6"
  }
 },
 "nbformat": 4,
 "nbformat_minor": 2
}
