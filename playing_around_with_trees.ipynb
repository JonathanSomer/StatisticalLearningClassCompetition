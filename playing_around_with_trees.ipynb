{
 "cells": [
  {
   "cell_type": "markdown",
   "metadata": {},
   "source": [
    "# Playing Around With Trees"
   ]
  },
  {
   "cell_type": "code",
   "execution_count": 45,
   "metadata": {},
   "outputs": [],
   "source": [
    "from sklearn.model_selection import KFold\n",
    "from data_pre_processing.fetch_data import *\n",
    "from sklearn.tree import DecisionTreeRegressor\n",
    "from data_pre_processing.fill_missing_values import fill_ratings_with_mean_per_user\n",
    "from sklearn.ensemble import RandomForestRegressor\n",
    "import numpy as np\n",
    "import matplotlib.pyplot as plt\n",
    "from tabulate import tabulate\n",
    "from scipy.stats import t"
   ]
  },
  {
   "cell_type": "code",
   "execution_count": 46,
   "metadata": {},
   "outputs": [],
   "source": [
    "def rmse(y, y_hat):\n",
    "    return np.sqrt(np.mean(np.power(np.subtract(y_hat,y), 2)))"
   ]
  },
  {
   "cell_type": "markdown",
   "metadata": {},
   "source": [
    "## Get Data:"
   ]
  },
  {
   "cell_type": "code",
   "execution_count": 47,
   "metadata": {},
   "outputs": [],
   "source": [
    "X, y = get_X_Y_train()\n",
    "X, _ = fill_ratings_with_mean_per_user(X)\n",
    "X = X[:,1,:] # only ratings"
   ]
  },
  {
   "cell_type": "markdown",
   "metadata": {},
   "source": [
    "## Perform Cross Validation"
   ]
  },
  {
   "cell_type": "code",
   "execution_count": 48,
   "metadata": {},
   "outputs": [
    {
     "name": "stdout",
     "output_type": "stream",
     "text": [
      "small -- 0.8122594421524214\n",
      "large -- 1.1155716023635596\n",
      "large_pruned -- 0.7958779283501752\n",
      "rf_small -- 0.7875195177115859\n",
      "rf_large -- 0.7631778626244343\n",
      "small -- 0.8345623681754037\n",
      "large -- 1.1242775458044156\n",
      "large_pruned -- 0.812439946519464\n",
      "rf_small -- 0.7987298677667265\n",
      "rf_large -- 0.7721556514071499\n",
      "small -- 0.8267287036029538\n",
      "large -- 1.131370849898476\n",
      "large_pruned -- 0.8144129568927803\n",
      "rf_small -- 0.7990754350527434\n",
      "rf_large -- 0.7698122823130324\n",
      "small -- 0.8212372478910599\n",
      "large -- 1.0943034314119644\n",
      "large_pruned -- 0.7993581889296395\n",
      "rf_small -- 0.7968815854936185\n",
      "rf_large -- 0.7682234050066427\n",
      "small -- 0.8376320449037387\n",
      "large -- 1.1024971655292362\n",
      "large_pruned -- 0.8210742729991203\n",
      "rf_small -- 0.8124779391429564\n",
      "rf_large -- 0.7907512567173068\n",
      "{'small': [0.8122594421524214, 0.8345623681754037, 0.8267287036029538, 0.8212372478910599, 0.8376320449037387], 'large': [1.1155716023635596, 1.1242775458044156, 1.131370849898476, 1.0943034314119644, 1.1024971655292362], 'large_pruned': [0.7958779283501752, 0.812439946519464, 0.8144129568927803, 0.7993581889296395, 0.8210742729991203], 'rf_small': [0.7875195177115859, 0.7987298677667265, 0.7990754350527434, 0.7968815854936185, 0.8124779391429564], 'rf_large': [0.7631778626244343, 0.7721556514071499, 0.7698122823130324, 0.7682234050066427, 0.7907512567173068]}\n"
     ]
    }
   ],
   "source": [
    "models = {\n",
    "    \"small\" : DecisionTreeRegressor(max_depth=3, random_state=0),\n",
    "    \"large\" : DecisionTreeRegressor(random_state=0),\n",
    "    \"large_pruned\" : DecisionTreeRegressor(min_samples_leaf=100, random_state=0),\n",
    "    \"rf_small\" : RandomForestRegressor(max_features = 30, max_depth=3, random_state=0, n_estimators=100),\n",
    "    \"rf_large\" : RandomForestRegressor(max_features = 30, random_state=0, n_estimators=100)\n",
    "}\n",
    "\n",
    "scores = { key: [] for key, _ in models.items() }\n",
    "\n",
    "kf = KFold(n_splits=5)\n",
    "for train_index, test_index in kf.split(X):\n",
    "    X_train, X_test = X[train_index], X[test_index]\n",
    "    y_train, y_test = y[train_index], y[test_index]\n",
    "    \n",
    "    for model_name, model in models.items():\n",
    "        model.fit(X_train, y_train)\n",
    "        current_score = rmse(model.predict(X_test), y_test)\n",
    "        print(\"{} -- {}\".format(model_name, current_score))\n",
    "        scores[model_name].append(current_score)\n",
    "\n",
    "print(scores)"
   ]
  },
  {
   "cell_type": "markdown",
   "metadata": {},
   "source": [
    "## plotting results:"
   ]
  },
  {
   "cell_type": "code",
   "execution_count": 49,
   "metadata": {},
   "outputs": [
    {
     "data": {
      "image/png": "[encoded data removed]",
      "text/plain": [
       "<Figure size 800x800 with 1 Axes>"
      ]
     },
     "metadata": {},
     "output_type": "display_data"
    }
   ],
   "source": [
    "from matplotlib.pyplot import figure\n",
    "data = [scores[model_name] for model_name, _ in models.items()]\n",
    "labels = [model_name for model_name, _ in models.items()]\n",
    "\n",
    "\n",
    "figure(num=None, figsize=(10, 10), dpi=80, facecolor='w', edgecolor='k')\n",
    "plt.title(\"Comparing Tree Scores\")\n",
    "plt.boxplot(data, labels=labels)\n",
    "plt.xticks(rotation=45)\n",
    "plt.show()"
   ]
  },
  {
   "cell_type": "markdown",
   "metadata": {},
   "source": [
    "## Compute confidence intervals based on CV results:"
   ]
  },
  {
   "cell_type": "code",
   "execution_count": 52,
   "metadata": {},
   "outputs": [
    {
     "name": "stdout",
     "output_type": "stream",
     "text": [
      "\\begin{tabular}{lrrrrr}\n",
      "\\hline\n",
      "                 &     small &     large &   large\\_pruned &   rf\\_small &   rf\\_large \\\\\n",
      "\\hline\n",
      " Top             & 0.837857  & 1.13053   &      0.82043   &  0.808839  &  0.784539  \\\\\n",
      " Center          & 0.826484  & 1.1136    &      0.808633  &  0.798937  &  0.772824  \\\\\n",
      " Bottom          & 0.815111  & 1.09668   &      0.796835  &  0.789035  &  0.761109  \\\\\n",
      " Interval Length & 0.0227456 & 0.0338559 &      0.0235955 &  0.0198045 &  0.0234308 \\\\\n",
      "\\hline\n",
      "\\end{tabular}"
     ]
    }
   ],
   "source": [
    "data = [scores[model_name] for model_name, _ in models.items()]\n",
    "headers = [model_name for model_name, _ in models.items()]\n",
    "\n",
    "n = 5\n",
    "means = [np.mean(scores) for scores in data]\n",
    "stds = [np.std(scores) for scores in data]\n",
    "\n",
    "critical_t_score = t.interval(0.95, n-1)[1]\n",
    "\n",
    "top = [\"Top\"]\n",
    "center = [\"Center\"]\n",
    "bottom = [\"Bottom\"]\n",
    "ranges = [\"Interval Length\"]\n",
    "for i in range(n):\n",
    "    center.append(means[i])\n",
    "    top.append(means[i] + (1/np.sqrt(n))*critical_t_score*stds[i])\n",
    "    bottom.append(means[i] - (1/np.sqrt(n))*critical_t_score*stds[i])\n",
    "    ranges.append(top[-1] - bottom[-1])\n",
    "\n",
    "\n",
    "rows = [headers, top, center, bottom, ranges]\n",
    "print(tabulate(rows, headers=\"firstrow\", tablefmt=\"latex\"), sep=' ', end='', flush=True)"
   ]
  },
  {
   "cell_type": "code",
   "execution_count": null,
   "metadata": {},
   "outputs": [],
   "source": [
    "    "
   ]
  }
 ],
 "metadata": {
  "kernelspec": {
   "display_name": "Python 3",
   "language": "python",
   "name": "python3"
  },
  "language_info": {
   "codemirror_mode": {
    "name": "ipython",
    "version": 3
   },
   "file_extension": ".py",
   "mimetype": "text/x-python",
   "name": "python",
   "nbconvert_exporter": "python",
   "pygments_lexer": "ipython3",
   "version": "3.6.6"
  }
 },
 "nbformat": 4,
 "nbformat_minor": 2
}
