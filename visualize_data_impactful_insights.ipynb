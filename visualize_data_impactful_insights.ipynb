{
 "cells": [
  {
   "cell_type": "code",
   "execution_count": 60,
   "metadata": {},
   "outputs": [],
   "source": [
    "from data_pre_processing.fetch_data import *\n",
    "import numpy as np\n",
    "import matplotlib.pyplot as plt\n",
    "import pandas as pd\n",
    "import scipy as sp\n",
    "import scipy.stats, scipy.signal\n",
    "import sklearn\n",
    "import sklearn.linear_model"
   ]
  },
  {
   "cell_type": "code",
   "execution_count": 24,
   "metadata": {},
   "outputs": [],
   "source": [
    "def describe(X):\n",
    "    df = pd.DataFrame(X)\n",
    "    print(df.describe())"
   ]
  },
  {
   "cell_type": "markdown",
   "metadata": {},
   "source": [
    "### correlation of all movies against target movie:"
   ]
  },
  {
   "cell_type": "code",
   "execution_count": 40,
   "metadata": {},
   "outputs": [],
   "source": [
    "def all_movies_against_target_movie_correlations():\n",
    "    X_train, Y_train = get_X_Y_train()\n",
    "    correlations = []\n",
    "    \n",
    "    for i in range(99):\n",
    "        ratings = X_train[:,1,i]\n",
    "        mask = ~np.isnan(ratings)\n",
    "        \n",
    "        ratings = ratings[mask]\n",
    "        targets = Y_train[mask]\n",
    "        \n",
    "        correlations.append(sp.stats.pearsonr(ratings, targets)[0])\n",
    "    \n",
    "    return correlations"
   ]
  },
  {
   "cell_type": "code",
   "execution_count": 25,
   "metadata": {},
   "outputs": [],
   "source": [
    "X_train, Y_train = get_X_Y_train()\n",
    "all_users_ratings = X_train[:,1,:]"
   ]
  },
  {
   "cell_type": "code",
   "execution_count": 62,
   "metadata": {},
   "outputs": [],
   "source": [
    "def detrend(time, target):\n",
    "    assert len(time.shape) == 1 and len(target.shape) == 1\n",
    "    time = time.reshape(len(time), -1)\n",
    "    model = sklearn.linear_model.LinearRegression()\n",
    "    model.fit(time,target)\n",
    "    target = target - model.predict(time)\n",
    "    return target"
   ]
  },
  {
   "cell_type": "code",
   "execution_count": 65,
   "metadata": {},
   "outputs": [],
   "source": [
    "def get_ratings_and_dates_for_movie_i(i):\n",
    "    X_train, _ = get_X_Y_train()\n",
    "    ratings = X_train[:,1,i]\n",
    "    dates = X_train[:,0,i]\n",
    "    return ratings, dates"
   ]
  },
  {
   "cell_type": "markdown",
   "metadata": {},
   "source": [
    "## Number of missing instances per movie\n"
   ]
  },
  {
   "cell_type": "code",
   "execution_count": 26,
   "metadata": {},
   "outputs": [
    {
     "name": "stdout",
     "output_type": "stream",
     "text": [
      "1543.0\n",
      "1539.5353535353536\n",
      "969.6442158419677\n"
     ]
    },
    {
     "data": {
      "image/png": "[encoded data removed]",
      "text/plain": [
       "<Figure size 432x288 with 1 Axes>"
      ]
     },
     "metadata": {
      "needs_background": "light"
     },
     "output_type": "display_data"
    }
   ],
   "source": [
    "\n",
    "number_of_users_who_didnt_see = np.sum(np.isnan(all_users_ratings), axis=0)\n",
    "\n",
    "\n",
    "print(np.median(number_of_users_who_didnt_see))\n",
    "print(np.mean(number_of_users_who_didnt_see))\n",
    "print(np.std(number_of_users_who_didnt_see))\n",
    "\n",
    "plt.hist(number_of_users_who_didnt_see, bins='auto')  # arguments are passed to np.histogram\n",
    "plt.title(\"Number of users who didnt see movie\")\n",
    "plt.show()"
   ]
  },
  {
   "cell_type": "markdown",
   "metadata": {},
   "source": [
    "## Hypothesis: does the target movie rating depend on time watched?"
   ]
  },
  {
   "cell_type": "code",
   "execution_count": 30,
   "metadata": {},
   "outputs": [
    {
     "data": {
      "text/plain": [
       "(0.044886169194169837, 7.1116619539675365e-06)"
      ]
     },
     "execution_count": 30,
     "metadata": {},
     "output_type": "execute_result"
    }
   ],
   "source": [
    "X_train, Y_train = get_X_Y_train()\n",
    "dates = X_train[:,2,0]\n",
    "ratings = Y_train\n",
    "\n",
    "sp.stats.pearsonr(ratings, dates)\n",
    "# scipy.stats.kendalltau(ratings, dates)\n"
   ]
  },
  {
   "cell_type": "markdown",
   "metadata": {},
   "source": [
    "### Yes, dont know in what way"
   ]
  },
  {
   "cell_type": "markdown",
   "metadata": {},
   "source": [
    "## Hypothesis: do other movies have a stronger corellation between date and rating?"
   ]
  },
  {
   "cell_type": "code",
   "execution_count": 33,
   "metadata": {},
   "outputs": [],
   "source": [
    "corrs = []\n",
    "\n",
    "for i in range(99):\n",
    "    mask = ~np.isnan(X_train[:,1,i])\n",
    "\n",
    "    dates = X_train[:,0,i][mask]\n",
    "    ratings = X_train[:,1,i][mask]\n",
    "    \n",
    "    \n",
    "    corrs.append(sp.stats.pearsonr(ratings, dates))\n",
    "    \n",
    "    "
   ]
  },
  {
   "cell_type": "code",
   "execution_count": 35,
   "metadata": {},
   "outputs": [
    {
     "name": "stdout",
     "output_type": "stream",
     "text": [
      "               0             1\n",
      "count  99.000000  9.900000e+01\n",
      "mean    0.059414  9.988449e-02\n",
      "std     0.040939  2.302328e-01\n",
      "min     0.000895  1.703394e-72\n",
      "25%     0.025543  1.450402e-14\n",
      "50%     0.057236  1.626407e-07\n",
      "75%     0.084434  2.015861e-02\n",
      "max     0.188846  9.358255e-01\n"
     ]
    }
   ],
   "source": [
    "describe(np.abs(corrs))"
   ]
  },
  {
   "cell_type": "code",
   "execution_count": 45,
   "metadata": {},
   "outputs": [
    {
     "data": {
      "text/plain": [
       "(0.05186034717782583, 1.340535673314057e-06)"
      ]
     },
     "execution_count": 45,
     "metadata": {},
     "output_type": "execute_result"
    }
   ],
   "source": [
    "corrs[0]"
   ]
  },
  {
   "cell_type": "code",
   "execution_count": 41,
   "metadata": {},
   "outputs": [],
   "source": [
    "movies_agains_target_corrs = all_movies_against_target_movie_correlations()"
   ]
  },
  {
   "cell_type": "code",
   "execution_count": 43,
   "metadata": {},
   "outputs": [
    {
     "data": {
      "text/plain": [
       "48"
      ]
     },
     "execution_count": 43,
     "metadata": {},
     "output_type": "execute_result"
    }
   ],
   "source": [
    "np.argmax(movies_agains_target_corrs)"
   ]
  },
  {
   "cell_type": "code",
   "execution_count": 44,
   "metadata": {},
   "outputs": [
    {
     "data": {
      "text/plain": [
       "0.43386046072972"
      ]
     },
     "execution_count": 44,
     "metadata": {},
     "output_type": "execute_result"
    }
   ],
   "source": [
    "movies_agains_target_corrs[48]"
   ]
  },
  {
   "cell_type": "code",
   "execution_count": null,
   "metadata": {},
   "outputs": [],
   "source": [
    "sp.signal.detrend("
   ]
  },
  {
   "cell_type": "code",
   "execution_count": 47,
   "metadata": {},
   "outputs": [
    {
     "data": {
      "text/plain": [
       "True"
      ]
     },
     "execution_count": 47,
     "metadata": {},
     "output_type": "execute_result"
    }
   ],
   "source": [
    "from scipy import signal\n",
    "randgen = np.random.RandomState(9)\n",
    "npoints = 1000\n",
    "noise = randgen.randn(npoints)\n",
    "x = 3 + 2*np.linspace(0, 1, npoints) + noise\n",
    "(signal.detrend(x) - noise).max() < 0.01"
   ]
  },
  {
   "cell_type": "code",
   "execution_count": 74,
   "metadata": {
    "scrolled": true
   },
   "outputs": [],
   "source": [
    "diff_in_correlations = []\n",
    "for i in range(99):\n",
    "    ratings, dates = get_ratings_and_dates_for_movie_i(i)\n",
    "    mask = ~np.isnan(ratings)\n",
    "    ratings = ratings[mask]\n",
    "    dates = dates[mask]\n",
    "    target_movie_ratings = Y_train[mask]\n",
    "\n",
    "    detrended_ratings = detrend(dates, ratings)\n",
    "\n",
    "    diff_in_correlations.append(\\\n",
    "        sp.stats.pearsonr(ratings, target_movie_ratings)[0] - \\\n",
    "        sp.stats.pearsonr(detrended_ratings, target_movie_ratings)[0])"
   ]
  },
  {
   "cell_type": "code",
   "execution_count": 75,
   "metadata": {},
   "outputs": [
    {
     "name": "stdout",
     "output_type": "stream",
     "text": [
      "               0\n",
      "count  99.000000\n",
      "mean    0.000987\n",
      "std     0.003118\n",
      "min    -0.006858\n",
      "25%    -0.001508\n",
      "50%     0.000959\n",
      "75%     0.002967\n",
      "max     0.009480\n"
     ]
    }
   ],
   "source": [
    "describe(diff_in_correlations)"
   ]
  }
 ],
 "metadata": {
  "kernelspec": {
   "display_name": "Python 3",
   "language": "python",
   "name": "python3"
  },
  "language_info": {
   "codemirror_mode": {
    "name": "ipython",
    "version": 3
   },
   "file_extension": ".py",
   "mimetype": "text/x-python",
   "name": "python",
   "nbconvert_exporter": "python",
   "pygments_lexer": "ipython3",
   "version": "3.6.6"
  }
 },
 "nbformat": 4,
 "nbformat_minor": 2
}
