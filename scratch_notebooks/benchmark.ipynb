{
 "cells": [
  {
   "cell_type": "code",
   "execution_count": 2,
   "metadata": {},
   "outputs": [
    {
     "name": "stdout",
     "output_type": "stream",
     "text": [
      "The autoreload extension is already loaded. To reload it, use:\n",
      "  %reload_ext autoreload\n"
     ]
    }
   ],
   "source": [
    "%load_ext autoreload"
   ]
  },
  {
   "cell_type": "code",
   "execution_count": 3,
   "metadata": {},
   "outputs": [],
   "source": [
    "%autoreload 2"
   ]
  },
  {
   "cell_type": "code",
   "execution_count": 3,
   "metadata": {},
   "outputs": [
    {
     "data": {
      "text/html": [
       "<style>.container { width:100% !important; }</style>"
      ],
      "text/plain": [
       "<IPython.core.display.HTML object>"
      ]
     },
     "metadata": {},
     "output_type": "display_data"
    }
   ],
   "source": [
    "# from IPython.core.display import display, HTML\n",
    "# display(HTML(\"<style>.container { width:100% !important; }</style>\"))"
   ]
  },
  {
   "cell_type": "code",
   "execution_count": 4,
   "metadata": {},
   "outputs": [
    {
     "ename": "ModuleNotFoundError",
     "evalue": "No module named 'data_utils'",
     "output_type": "error",
     "traceback": [
      "\u001b[0;31m---------------------------------------------------------------------------\u001b[0m",
      "\u001b[0;31mModuleNotFoundError\u001b[0m                       Traceback (most recent call last)",
      "\u001b[0;32m<ipython-input-4-ec9f8cef8428>\u001b[0m in \u001b[0;36m<module>\u001b[0;34m\u001b[0m\n\u001b[1;32m      1\u001b[0m \u001b[0;32mimport\u001b[0m \u001b[0mnumpy\u001b[0m \u001b[0;32mas\u001b[0m \u001b[0mnp\u001b[0m\u001b[0;34m\u001b[0m\u001b[0m\n\u001b[0;32m----> 2\u001b[0;31m \u001b[0;32mfrom\u001b[0m \u001b[0mdata_utils\u001b[0m \u001b[0;32mimport\u001b[0m \u001b[0;34m*\u001b[0m\u001b[0;34m\u001b[0m\u001b[0m\n\u001b[0m\u001b[1;32m      3\u001b[0m \u001b[0;32mfrom\u001b[0m \u001b[0mtabulate\u001b[0m \u001b[0;32mimport\u001b[0m \u001b[0mtabulate\u001b[0m\u001b[0;34m\u001b[0m\u001b[0m\n\u001b[1;32m      4\u001b[0m \u001b[0;32mfrom\u001b[0m \u001b[0mnaive_regresor\u001b[0m \u001b[0;32mimport\u001b[0m \u001b[0mNaiveRegresor\u001b[0m\u001b[0;34m,\u001b[0m \u001b[0mNaiveRegresor_WithNoDate\u001b[0m\u001b[0;34m,\u001b[0m \u001b[0mNaiveRegresor_WithDateSubstraction\u001b[0m\u001b[0;34m\u001b[0m\u001b[0m\n\u001b[1;32m      5\u001b[0m \u001b[0;31m# from auto_ml_predictor import AutoMl_Regresor\u001b[0m\u001b[0;34m\u001b[0m\u001b[0;34m\u001b[0m\u001b[0m\n",
      "\u001b[0;31mModuleNotFoundError\u001b[0m: No module named 'data_utils'"
     ]
    }
   ],
   "source": [
    "import numpy as np\n",
    "from data_utils import *\n",
    "from tabulate import tabulate\n",
    "from naive_regresor import NaiveRegresor, NaiveRegresor_WithNoDate, NaiveRegresor_WithDateSubstraction\n",
    "# from auto_ml_predictor import AutoMl_Regresor\n",
    "from fill_missing_values import *\n",
    "# from PCA_regresor import PCAOnlyRatingsRegresor"
   ]
  },
  {
   "cell_type": "code",
   "execution_count": 5,
   "metadata": {},
   "outputs": [],
   "source": [
    "X,Y = get_X_Y_train()\n",
    "movies_dates = get_movies_dates()\n",
    "ouput_movie_date = get_output_movie_date()"
   ]
  },
  {
   "cell_type": "code",
   "execution_count": 6,
   "metadata": {},
   "outputs": [],
   "source": [
    "def fill_with_none(X):\n",
    "    return X\n",
    "filling_nan_methods = dict()\n",
    "filling_nan_methods['none'] = fill_with_none\n",
    "filling_nan_methods['mean'] = fill_with_mean\n",
    "filling_nan_methods['zeros'] = fill_with_zeros\n",
    "filling_nan_methods['ones'] = lambda x: fill_with_num(x, 1)"
   ]
  },
  {
   "cell_type": "code",
   "execution_count": 7,
   "metadata": {},
   "outputs": [],
   "source": [
    "def score_R2(y_predicted,y_actual):\n",
    "    from sklearn.metrics import mean_squared_error\n",
    "    from math import sqrt\n",
    "    return sqrt(mean_squared_error(y_actual, y_predicted))"
   ]
  },
  {
   "cell_type": "code",
   "execution_count": 8,
   "metadata": {},
   "outputs": [],
   "source": [
    "scores = dict()\n",
    "def get_min_score(k):\n",
    "    return min([x[0] for x in scores[k] if isinstance(x[0], (int, float, complex))])"
   ]
  },
  {
   "cell_type": "code",
   "execution_count": 17,
   "metadata": {},
   "outputs": [],
   "source": [
    "number_of_tests = 500\n",
    "def check_predictor(pred, pred_name, needFill=None):\n",
    "    my_scores = []\n",
    "    for k,v in filling_nan_methods.items():\n",
    "        if needFill is None or (k!='none') == needFill:\n",
    "            cur_score = []\n",
    "            for _ in range(number_of_tests):\n",
    "                X_filled = v(X)\n",
    "                X_train, Y_train, X_test, Y_test = random_partition(X_filled,Y)\n",
    "                pred.fit(X_train, Y_train)\n",
    "                Y_pred = pred.predict(X_test, Y_test[:,0])\n",
    "                cur_score.append(score_R2(Y_pred, Y_test[:,1]))\n",
    "            cur_score = (np.mean(cur_score), np.std(cur_score))\n",
    "        else:\n",
    "            cur_score = ('inf', 'inf')\n",
    "        my_scores.append(cur_score)\n",
    "    scores[pred_name] = my_scores \n",
    "    print(\"min score: \", get_min_score(pred_name), \" \", pred_name)"
   ]
  },
  {
   "cell_type": "code",
   "execution_count": 18,
   "metadata": {},
   "outputs": [
    {
     "name": "stdout",
     "output_type": "stream",
     "text": [
      "min score:  0.7670156741568345   NaiveReg\n"
     ]
    }
   ],
   "source": [
    "check_predictor(NaiveRegresor(), 'NaiveReg', needFill=True)"
   ]
  },
  {
   "cell_type": "code",
   "execution_count": 19,
   "metadata": {},
   "outputs": [
    {
     "name": "stdout",
     "output_type": "stream",
     "text": [
      "min score:  0.766795466448268   NaiveRegNoDate\n"
     ]
    }
   ],
   "source": [
    "check_predictor(NaiveRegresor_WithNoDate(), 'NaiveRegNoDate', needFill=True)"
   ]
  },
  {
   "cell_type": "code",
   "execution_count": 20,
   "metadata": {},
   "outputs": [
    {
     "name": "stdout",
     "output_type": "stream",
     "text": [
      "min score:  0.7639765862283672   NaiveRegDateSub\n"
     ]
    }
   ],
   "source": [
    "predictor = NaiveRegresor_WithDateSubstraction(movies_dates, ouput_movie_date)\n",
    "check_predictor(predictor, 'NaiveRegDateSub', needFill=True)"
   ]
  },
  {
   "cell_type": "code",
   "execution_count": 21,
   "metadata": {},
   "outputs": [],
   "source": [
    "# check_predictor(AutoMl_Regresor(), 'AutoMl_Regresor')"
   ]
  },
  {
   "cell_type": "code",
   "execution_count": 22,
   "metadata": {},
   "outputs": [],
   "source": [
    "# regresors = dict()\n",
    "# from sklearn.linear_model import ARDRegression,BayesianRidge,ElasticNet,ElasticNetCV,HuberRegressor,LinearRegression,LogisticRegression,LogisticRegressionCV,PassiveAggressiveRegressor,RandomizedLogisticRegression,Ridge,TheilSenRegressor\n",
    "# # regresors['ARDRegression'] = ARDRegression()\n",
    "# regresors['BayesianRidge'] = BayesianRidge()\n",
    "# regresors['ElasticNet'] = ElasticNet()\n",
    "# regresors['ElasticNetCV'] = ElasticNetCV() \n",
    "# regresors['HuberRegressor'] = HuberRegressor()\n",
    "# regresors['LinearRegression'] = LinearRegression()\n",
    "# regresors['LogisticRegression'] = LogisticRegression()\n",
    "# regresors['LogisticRegressionCV'] = LogisticRegressionCV()\n",
    "# regresors['PassiveAggressiveRegressor'] = PassiveAggressiveRegressor()\n",
    "# regresors['Ridge'] = Ridge()\n",
    "# regresors['TheilSenRegressor'] = TheilSenRegressor()\n"
   ]
  },
  {
   "cell_type": "code",
   "execution_count": 23,
   "metadata": {},
   "outputs": [],
   "source": [
    "# number_of_component = [1,2,4,8,10,16,24,32]\n",
    "\n",
    "# for k,v in regresors.items():\n",
    "#     for noc in number_of_component:\n",
    "#         check_predictor(PCAOnlyRatingsRegresor(noc, v), 'PCAOnlyRatingsRegresor_%s_%d'%(k,noc), True)"
   ]
  },
  {
   "cell_type": "code",
   "execution_count": 24,
   "metadata": {},
   "outputs": [
    {
     "name": "stdout",
     "output_type": "stream",
     "text": [
      "|                 |   none_mean |   none_std |   mean_mean |   mean_std |   zeros_mean |   zeros_std |   ones_mean |   ones_std |\n",
      "|-----------------+-------------+------------+-------------+------------+--------------+-------------+-------------+------------|\n",
      "| NaiveRegDateSub |         inf |        inf |      0.7772 |     0.0096 |       0.7656 |      0.0091 |      0.7640 |     0.0086 |\n",
      "| NaiveRegNoDate  |         inf |        inf |      0.7723 |     0.0093 |       0.7747 |      0.0083 |      0.7668 |     0.0100 |\n",
      "| NaiveReg        |         inf |        inf |      0.7769 |     0.0093 |       0.7678 |      0.0088 |      0.7670 |     0.0085 |\n"
     ]
    }
   ],
   "source": [
    "headers = []\n",
    "for h in filling_nan_methods.keys():\n",
    "    headers.append(h + \"_mean\")\n",
    "    headers.append(h + \"_std\")\n",
    "values = [[k] + list(np.array(scores[k]).flatten()) for k in sorted(scores.keys(), key=get_min_score)]\n",
    "print(tabulate(values, headers=headers, tablefmt='orgtbl', floatfmt=\".4f\"))"
   ]
  },
  {
   "cell_type": "code",
   "execution_count": null,
   "metadata": {},
   "outputs": [],
   "source": []
  }
 ],
 "metadata": {
  "kernelspec": {
   "display_name": "Python 3",
   "language": "python",
   "name": "python3"
  },
  "language_info": {
   "codemirror_mode": {
    "name": "ipython",
    "version": 3
   },
   "file_extension": ".py",
   "mimetype": "text/x-python",
   "name": "python",
   "nbconvert_exporter": "python",
   "pygments_lexer": "ipython3",
   "version": "3.6.6"
  }
 },
 "nbformat": 4,
 "nbformat_minor": 2
}
