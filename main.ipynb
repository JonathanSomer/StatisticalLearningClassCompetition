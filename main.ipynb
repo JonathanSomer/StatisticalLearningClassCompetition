{
 "cells": [
  {
   "cell_type": "markdown",
   "metadata": {},
   "source": [
    "## This is the main benchmarking notebook"
   ]
  },
  {
   "cell_type": "markdown",
   "metadata": {},
   "source": [
    "### Import all regressors to benchmark:"
   ]
  },
  {
   "cell_type": "code",
   "execution_count": 1,
   "metadata": {},
   "outputs": [
    {
     "name": "stderr",
     "output_type": "stream",
     "text": [
      "Using TensorFlow backend.\n"
     ]
    }
   ],
   "source": [
    "from regressors.naive_regressor import NaiveRegressor\n",
    "from regressors.fill_with_mean_per_user_regressor import FillWithMeanPerUserRegressor\n",
    "from regressors.fill_with_mean_per_user_clean_movies_regressor import FillWithMeanPerUserCleanMoviesRegressor\n",
    "from regressors.fill_with_mean_per_user_clean_movies_pca_regressor import FillWithMeanPerUserCleanMoviesPCARegressor\n",
    "from regressors.knn_regressor import KNNRegressor\n",
    "from regressors.dl_regressor import DLRegressor\n",
    "\n",
    "regressors = [\n",
    "              NaiveRegressor(),\n",
    "              FillWithMeanPerUserRegressor(),\n",
    "              FillWithMeanPerUserCleanMoviesRegressor(),\n",
    "#               FillWithMeanPerUserCleanMoviesPCARegressor(),\n",
    "             ]"
   ]
  },
  {
   "cell_type": "markdown",
   "metadata": {},
   "source": [
    "### Perform Benchmark:"
   ]
  },
  {
   "cell_type": "code",
   "execution_count": 2,
   "metadata": {},
   "outputs": [
    {
     "name": "stdout",
     "output_type": "stream",
     "text": [
      "Method                                    Standard Deviation      Mean\n",
      "--------------------------------------  --------------------  --------\n",
      "NaiveRegressor                                             0  0.786235\n",
      "Fill With Mean Per User                                    0  0.777342\n",
      "Fill With Mean Per User + Clean Movies                     0  0.776881\n"
     ]
    }
   ],
   "source": [
    "from evaluation.evaluator import perform_benchmark\n",
    "\n",
    "perform_benchmark(regressors, n_runs = 1)"
   ]
  },
  {
   "cell_type": "code",
   "execution_count": null,
   "metadata": {},
   "outputs": [],
   "source": []
  }
 ],
 "metadata": {
  "kernelspec": {
   "display_name": "ml",
   "language": "python",
   "name": "ml"
  },
  "language_info": {
   "codemirror_mode": {
    "name": "ipython",
    "version": 3
   },
   "file_extension": ".py",
   "mimetype": "text/x-python",
   "name": "python",
   "nbconvert_exporter": "python",
   "pygments_lexer": "ipython3",
   "version": "3.6.6"
  }
 },
 "nbformat": 4,
 "nbformat_minor": 2
}
