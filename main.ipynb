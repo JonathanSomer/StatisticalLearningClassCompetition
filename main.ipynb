{
 "cells": [
  {
   "cell_type": "markdown",
   "metadata": {},
   "source": [
    "## This is the main benchmarking notebook"
   ]
  },
  {
   "cell_type": "markdown",
   "metadata": {},
   "source": [
    "### Import all regressors to benchmark:"
   ]
  },
  {
   "cell_type": "code",
   "execution_count": 1,
   "metadata": {},
   "outputs": [],
   "source": [
    "from \n",
    "\n",
    "regressors = [\n",
    "\n",
    "             ]"
   ]
  },
  {
   "cell_type": "markdown",
   "metadata": {},
   "source": [
    "### Perform Benchmark:"
   ]
  },
  {
   "cell_type": "code",
   "execution_count": null,
   "metadata": {},
   "outputs": [
    {
     "name": "stdout",
     "output_type": "stream",
     "text": [
      "Run #14\n",
      "Method                                               Standard Deviation      Mean\n",
      "-------------------------------------------------  --------------------  --------\n",
      "NaiveRegressor                                                0.0187377  0.767325\n",
      "Fill With Mean Per User                                       0.0191685  0.761741\n",
      "Fill With Mean Per User + Clean Movies                        0.0192824  0.761571\n",
      "Fill With Mean Per User + Clean Movies + Ridge 10             0.019286   0.761557\n",
      "FLAT + Ridge, alpha 10, min 1.3, max 4.7                      0.0192639  0.761383\n",
      "FLAT + Ridge, alpha 0, min 1.3, max 4.7                       0.017067   0.80037\n",
      "FLAT + Ridge, alpha 0.2, min 1.3, max 4.7                     0.0170664  0.800382\n",
      "FLAT + Ridge, alpha 0.4, min 1.3, max 4.7                     0.0170653  0.800401\n",
      "FLAT + Ridge, alpha 0.6, min 1.3, max 4.7                     0.0170631  0.80044\n",
      "FLAT + Ridge, alpha 0.8, min 1.3, max 4.7                     0.0170565  0.800556\n",
      "FLAT + Ridge, alpha 1, min 1.3, max 4.7                       0.0192639  0.761383"
     ]
    }
   ],
   "source": [
    "from evaluation.evaluator import perform_benchmark\n",
    "\n",
    "perform_benchmark(regressors, n_runs = 1000)"
   ]
  },
  {
   "cell_type": "code",
   "execution_count": null,
   "metadata": {},
   "outputs": [],
   "source": []
  },
  {
   "cell_type": "code",
   "execution_count": null,
   "metadata": {},
   "outputs": [],
   "source": []
  }
 ],
 "metadata": {
  "kernelspec": {
   "display_name": "Python 3",
   "language": "python",
   "name": "python3"
  },
  "language_info": {
   "codemirror_mode": {
    "name": "ipython",
    "version": 3
   },
   "file_extension": ".py",
   "mimetype": "text/x-python",
   "name": "python",
   "nbconvert_exporter": "python",
   "pygments_lexer": "ipython3",
   "version": "3.6.6"
  }
 },
 "nbformat": 4,
 "nbformat_minor": 2
}
