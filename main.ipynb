{
 "cells": [
  {
   "cell_type": "markdown",
   "metadata": {},
   "source": [
    "## This is the main benchmarking notebook"
   ]
  },
  {
   "cell_type": "markdown",
   "metadata": {},
   "source": [
    "### Import all regressors to benchmark:"
   ]
  },
  {
   "cell_type": "code",
   "execution_count": 3,
   "metadata": {},
   "outputs": [],
   "source": [
    "from regressors.naive_regressor import NaiveRegressor\n",
    "from regressors.fill_with_mean_per_user_regressor import FillWithMeanPerUserRegressor\n",
    "from regressors.fill_with_mean_per_user_clean_movies_regressor import FillWithMeanPerUserCleanMoviesRegressor\n",
    "from regressors.fill_with_mean_per_user_clean_movies_pca_regressor import FillWithMeanPerUserCleanMoviesPCARegressor\n",
    "from regressors.knn_regressor import KNNRegressor\n",
    "from regressors.dl_regressor import DLRegressor\n",
    "from regressors.days_to_rate_target_movie_regressor import DaysToRateTargetMovieRegressor\n",
    "from regressors.diff_in_time_to_rate_target_movie_regressor import DiffInTimeToRateTargetMovieRegressor\n",
    "from regressors.all_features_regressor import AllFeaturesRegressor\n",
    "from regressors.fill_with_mean_per_user_clean_movies_ridge_regressor import FillWithMeanPerUserCleanMoviesRidgeRegressor\n",
    "regressors = [\n",
    "              NaiveRegressor(),\n",
    "              FillWithMeanPerUserRegressor(),\n",
    "              FillWithMeanPerUserCleanMoviesRegressor(),\n",
    "              FillWithMeanPerUserCleanMoviesRidgeRegressor(10),\n",
    "              DaysToRateTargetMovieRegressor(),\n",
    "              DiffInTimeToRateTargetMovieRegressor(),\n",
    "              AllFeaturesRegressor(10),\n",
    "             ]"
   ]
  },
  {
   "cell_type": "markdown",
   "metadata": {},
   "source": [
    "### Perform Benchmark:"
   ]
  },
  {
   "cell_type": "code",
   "execution_count": null,
   "metadata": {},
   "outputs": [
    {
     "name": "stdout",
     "output_type": "stream",
     "text": [
      "Run #10\n",
      "Method                                                                        Standard Deviation      Mean\n",
      "--------------------------------------------------------------------------  --------------------  --------\n",
      "NaiveRegressor                                                                         0.0191055  0.770124\n",
      "Fill With Mean Per User                                                                0.0215134  0.765653\n",
      "Fill With Mean Per User + Clean Movies                                                 0.0215678  0.765706\n",
      "Fill With Mean Per User + Clean Movies + Ridge 10                                      0.0215578  0.765686\n",
      "Fill With Mean Per User + Clean Movies + Days To Rate Target Movie                     0.0216509  0.765882\n",
      "Fill With Mean Per User + Clean Movies + Diff in Time to Rate Target Movie             0.0216191  0.76593\n",
      "All features + Ridge, alpha = 10                                                       0.0216502  0.765983"
     ]
    }
   ],
   "source": [
    "from evaluation.evaluator import perform_benchmark\n",
    "\n",
    "perform_benchmark(regressors, n_runs = 1000)"
   ]
  },
  {
   "cell_type": "code",
   "execution_count": null,
   "metadata": {},
   "outputs": [],
   "source": []
  }
 ],
 "metadata": {
  "kernelspec": {
   "display_name": "ml",
   "language": "python",
   "name": "ml"
  },
  "language_info": {
   "codemirror_mode": {
    "name": "ipython",
    "version": 3
   },
   "file_extension": ".py",
   "mimetype": "text/x-python",
   "name": "python",
   "nbconvert_exporter": "python",
   "pygments_lexer": "ipython3",
   "version": "3.6.6"
  }
 },
 "nbformat": 4,
 "nbformat_minor": 2
}
