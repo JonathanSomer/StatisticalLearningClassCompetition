{
 "cells": [
  {
   "cell_type": "markdown",
   "metadata": {},
   "source": [
    "## This is the main benchmarking notebook"
   ]
  },
  {
   "cell_type": "markdown",
   "metadata": {},
   "source": [
    "### Import all regressors to benchmark:"
   ]
  },
  {
   "cell_type": "code",
   "execution_count": 1,
   "metadata": {},
   "outputs": [],
   "source": [
    "from regressors.naive_regressor import NaiveRegressor\n",
    "from regressors.fill_with_mean_per_user_regressor import FillWithMeanPerUserRegressor\n",
    "from regressors.fill_with_mean_per_user_clean_movies_regressor import FillWithMeanPerUserCleanMoviesRegressor\n",
    "from regressors.fill_with_mean_per_user_clean_movies_pca_regressor import FillWithMeanPerUserCleanMoviesPCARegressor\n",
    "from regressors.knn_regressor import KNNRegressor\n",
    "# from regressors.dl_regressor import DLRegressor\n",
    "from regressors.days_to_rate_target_movie_regressor import DaysToRateTargetMovieRegressor\n",
    "from regressors.diff_in_time_to_rate_target_movie_regressor import DiffInTimeToRateTargetMovieRegressor\n",
    "from regressors.all_features_regressor import AllFeaturesRegressor\n",
    "from regressors.fill_with_mean_per_user_clean_movies_ridge_regressor import FillWithMeanPerUserCleanMoviesRidgeRegressor\n",
    "from regressors.fill_with_mean_per_user_clean_movies_ridge_flat_regressor import FillWithMeanPerUserCleanMoviesRidgeFlatRegressor\n",
    "from regressors.fill_with_mean_per_user_clean_movies_ridge_flat_normalize_regressor import FillWithMeanPerUserCleanMoviesRidgeFlatNormalizeRegressor\n",
    "from regressors.fill_with_mean_per_user_and_movie_clean_movies_ridge_flat_regressor import FillWithMeanPerUserAndMovieCleanMoviesRidgeFlatRegressor\n",
    "\n",
    "regressors = [\n",
    "              NaiveRegressor(),\n",
    "              FillWithMeanPerUserRegressor(),\n",
    "              FillWithMeanPerUserCleanMoviesRegressor(),\n",
    "              FillWithMeanPerUserCleanMoviesRidgeRegressor(10),\n",
    "#               FillWithMeanPerUserCleanMoviesRidgeFlatRegressor(maxim = 4.7, minim = 1.5),\n",
    "              FillWithMeanPerUserCleanMoviesRidgeFlatRegressor(maxim = 4.7, minim = 1.3),\n",
    "              FillWithMeanPerUserAndMovieCleanMoviesRidgeFlatRegressor(alpha = 0),\n",
    "              FillWithMeanPerUserAndMovieCleanMoviesRidgeFlatRegressor(alpha = 0.2),\n",
    "              FillWithMeanPerUserAndMovieCleanMoviesRidgeFlatRegressor(alpha = 0.4),\n",
    "              FillWithMeanPerUserAndMovieCleanMoviesRidgeFlatRegressor(alpha = 0.6),\n",
    "              FillWithMeanPerUserAndMovieCleanMoviesRidgeFlatRegressor(alpha = 0.8),\n",
    "              FillWithMeanPerUserAndMovieCleanMoviesRidgeFlatRegressor(alpha = 1),\n",
    "#               FillWithMeanPerUserCleanMoviesRidgeFlatNormalizeRegressor(),\n",
    "#               FillWithMeanPerUserCleanMoviesRidgeFlatRegressor(maxim = 4.9, minim = 1.1),\n",
    "#               FillWithMeanPerUserCleanMoviesRidgeFlatRegressor(maxim = 5, minim = 1),\n",
    "              \n",
    "#               DaysToRateTargetMovieRegressor(),\n",
    "#               DiffInTimeToRateTargetMovieRegressor(),\n",
    "#               AllFeaturesRegressor(10),\n",
    "#               DLRegressor(1)\n",
    "             ]"
   ]
  },
  {
   "cell_type": "markdown",
   "metadata": {},
   "source": [
    "### Perform Benchmark:"
   ]
  },
  {
   "cell_type": "code",
   "execution_count": null,
   "metadata": {},
   "outputs": [
    {
     "name": "stdout",
     "output_type": "stream",
     "text": [
      "Run #14\n",
      "Method                                               Standard Deviation      Mean\n",
      "-------------------------------------------------  --------------------  --------\n",
      "NaiveRegressor                                                0.0187377  0.767325\n",
      "Fill With Mean Per User                                       0.0191685  0.761741\n",
      "Fill With Mean Per User + Clean Movies                        0.0192824  0.761571\n",
      "Fill With Mean Per User + Clean Movies + Ridge 10             0.019286   0.761557\n",
      "FLAT + Ridge, alpha 10, min 1.3, max 4.7                      0.0192639  0.761383\n",
      "FLAT + Ridge, alpha 0, min 1.3, max 4.7                       0.017067   0.80037\n",
      "FLAT + Ridge, alpha 0.2, min 1.3, max 4.7                     0.0170664  0.800382\n",
      "FLAT + Ridge, alpha 0.4, min 1.3, max 4.7                     0.0170653  0.800401\n",
      "FLAT + Ridge, alpha 0.6, min 1.3, max 4.7                     0.0170631  0.80044\n",
      "FLAT + Ridge, alpha 0.8, min 1.3, max 4.7                     0.0170565  0.800556\n",
      "FLAT + Ridge, alpha 1, min 1.3, max 4.7                       0.0192639  0.761383"
     ]
    }
   ],
   "source": [
    "from evaluation.evaluator import perform_benchmark\n",
    "\n",
    "perform_benchmark(regressors, n_runs = 1000)"
   ]
  },
  {
   "cell_type": "code",
   "execution_count": null,
   "metadata": {},
   "outputs": [],
   "source": []
  },
  {
   "cell_type": "code",
   "execution_count": null,
   "metadata": {},
   "outputs": [],
   "source": []
  }
 ],
 "metadata": {
  "kernelspec": {
   "display_name": "Python 3",
   "language": "python",
   "name": "python3"
  },
  "language_info": {
   "codemirror_mode": {
    "name": "ipython",
    "version": 3
   },
   "file_extension": ".py",
   "mimetype": "text/x-python",
   "name": "python",
   "nbconvert_exporter": "python",
   "pygments_lexer": "ipython3",
   "version": "3.6.6"
  }
 },
 "nbformat": 4,
 "nbformat_minor": 2
}
