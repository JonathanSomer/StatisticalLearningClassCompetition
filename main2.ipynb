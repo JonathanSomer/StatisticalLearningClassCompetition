{
 "cells": [
  {
   "cell_type": "markdown",
   "metadata": {},
   "source": [
    "## This is the main benchmarking notebook"
   ]
  },
  {
   "cell_type": "markdown",
   "metadata": {},
   "source": [
    "### Import all regressors to benchmark:"
   ]
  },
  {
   "cell_type": "code",
   "execution_count": 8,
   "metadata": {},
   "outputs": [
    {
     "name": "stdout",
     "output_type": "stream",
     "text": [
      "The autoreload extension is already loaded. To reload it, use:\n",
      "  %reload_ext autoreload\n"
     ]
    }
   ],
   "source": [
    "%load_ext autoreload\n",
    "%autoreload 2"
   ]
  },
  {
   "cell_type": "code",
   "execution_count": 7,
   "metadata": {},
   "outputs": [
    {
     "ename": "ModuleNotFoundError",
     "evalue": "No module named 'autokeras'",
     "output_type": "error",
     "traceback": [
      "\u001b[1;31m---------------------------------------------------------------------------\u001b[0m",
      "\u001b[1;31mModuleNotFoundError\u001b[0m                       Traceback (most recent call last)",
      "\u001b[1;32m<ipython-input-7-7f1f58fd6c03>\u001b[0m in \u001b[0;36m<module>\u001b[1;34m\u001b[0m\n\u001b[0;32m      5\u001b[0m \u001b[1;32mfrom\u001b[0m \u001b[0mregressors\u001b[0m\u001b[1;33m.\u001b[0m\u001b[0mknn_regressor\u001b[0m \u001b[1;32mimport\u001b[0m \u001b[0mKNNRegressor\u001b[0m\u001b[1;33m\u001b[0m\u001b[1;33m\u001b[0m\u001b[0m\n\u001b[0;32m      6\u001b[0m \u001b[1;32mfrom\u001b[0m \u001b[0mregressors\u001b[0m\u001b[1;33m.\u001b[0m\u001b[0mdl_regressor\u001b[0m \u001b[1;32mimport\u001b[0m \u001b[0mDLRegressor\u001b[0m\u001b[1;33m\u001b[0m\u001b[1;33m\u001b[0m\u001b[0m\n\u001b[1;32m----> 7\u001b[1;33m \u001b[1;32mfrom\u001b[0m \u001b[0mregressors\u001b[0m\u001b[1;33m.\u001b[0m\u001b[0mall_movie_regressor\u001b[0m \u001b[1;32mimport\u001b[0m \u001b[0mAllMovieRegressor\u001b[0m\u001b[1;33m\u001b[0m\u001b[1;33m\u001b[0m\u001b[0m\n\u001b[0m\u001b[0;32m      8\u001b[0m \u001b[1;32mfrom\u001b[0m \u001b[0mregressors\u001b[0m\u001b[1;33m.\u001b[0m\u001b[0mdays_to_rate_target_movie_regressor\u001b[0m \u001b[1;32mimport\u001b[0m \u001b[0mDaysToRateTargetMovieRegressor\u001b[0m\u001b[1;33m\u001b[0m\u001b[1;33m\u001b[0m\u001b[0m\n\u001b[0;32m      9\u001b[0m \u001b[1;32mfrom\u001b[0m \u001b[0mregressors\u001b[0m\u001b[1;33m.\u001b[0m\u001b[0mdiff_in_time_to_rate_target_movie_regressor\u001b[0m \u001b[1;32mimport\u001b[0m \u001b[0mDiffInTimeToRateTargetMovieRegressor\u001b[0m\u001b[1;33m\u001b[0m\u001b[1;33m\u001b[0m\u001b[0m\n",
      "\u001b[1;32m~\\Source\\Repos\\StatisticalLearningClassCompetition\\regressors\\all_movie_regressor.py\u001b[0m in \u001b[0;36m<module>\u001b[1;34m\u001b[0m\n\u001b[0;32m     17\u001b[0m \u001b[1;32mfrom\u001b[0m \u001b[0mkeras\u001b[0m \u001b[1;32mimport\u001b[0m \u001b[0mregularizers\u001b[0m\u001b[1;33m\u001b[0m\u001b[1;33m\u001b[0m\u001b[0m\n\u001b[0;32m     18\u001b[0m \u001b[1;32mfrom\u001b[0m \u001b[0mkeras\u001b[0m \u001b[1;32mimport\u001b[0m \u001b[0mbackend\u001b[0m\u001b[1;33m\u001b[0m\u001b[1;33m\u001b[0m\u001b[0m\n\u001b[1;32m---> 19\u001b[1;33m \u001b[1;32mfrom\u001b[0m \u001b[0mautokeras\u001b[0m \u001b[1;32mimport\u001b[0m \u001b[0mDeepSupervised\u001b[0m\u001b[1;33m\u001b[0m\u001b[1;33m\u001b[0m\u001b[0m\n\u001b[0m\u001b[0;32m     20\u001b[0m \u001b[1;32mfrom\u001b[0m \u001b[0mautokeras\u001b[0m\u001b[1;33m.\u001b[0m\u001b[0mnn\u001b[0m\u001b[1;33m.\u001b[0m\u001b[0mloss_function\u001b[0m \u001b[1;32mimport\u001b[0m \u001b[0mregression_loss\u001b[0m\u001b[1;33m\u001b[0m\u001b[1;33m\u001b[0m\u001b[0m\n\u001b[0;32m     21\u001b[0m \u001b[1;33m\u001b[0m\u001b[0m\n",
      "\u001b[1;31mModuleNotFoundError\u001b[0m: No module named 'autokeras'"
     ]
    }
   ],
   "source": [
    "from regressors.naive_regressor import NaiveRegressor\n",
    "from regressors.fill_with_mean_per_user_regressor import FillWithMeanPerUserRegressor\n",
    "from regressors.fill_with_mean_per_user_clean_movies_regressor import FillWithMeanPerUserCleanMoviesRegressor\n",
    "from regressors.fill_with_mean_per_user_clean_movies_pca_regressor import FillWithMeanPerUserCleanMoviesPCARegressor\n",
    "from regressors.knn_regressor import KNNRegressor\n",
    "from regressors.dl_regressor import DLRegressor\n",
    "from regressors.all_movie_regressor import AllMovieRegressor\n",
    "from regressors.days_to_rate_target_movie_regressor import DaysToRateTargetMovieRegressor\n",
    "from regressors.diff_in_time_to_rate_target_movie_regressor import DiffInTimeToRateTargetMovieRegressor\n",
    "from regressors.all_features_regressor import AllFeaturesRegressor\n",
    "from regressors.fill_with_mean_per_user_clean_movies_ridge_regressor import FillWithMeanPerUserCleanMoviesRidgeRegressor\n",
    "from regressors.fill_with_mean_per_user_clean_movies_ridge_flat_regressor import FillWithMeanPerUserCleanMoviesRidgeFlatRegressor\n",
    "from regressors.mean_regressor import MeanRegressor\n",
    "\n",
    "\n",
    "regressors = [\n",
    "                MeanRegressor(),\n",
    "#               NaiveRegressor(),\n",
    "#               FillWithMeanPerUserRegressor(),\n",
    "#               FillWithMeanPerUserCleanMoviesRegressor(),\n",
    "#               FillWithMeanPerUserCleanMoviesRidgeRegressor(10),\n",
    "#               FillWithMeanPerUserCleanMoviesRidgeFlatRegressor(maxim = 4.7, minim = 1.5),\n",
    "                FillWithMeanPerUserCleanMoviesRidgeFlatRegressor(maxim = 4.7, minim = 1.3),\n",
    "#               FillWithMeanPerUserCleanMoviesRidgeFlatRegressor(maxim = 4.9, minim = 1.1),\n",
    "#               FillWithMeanPerUserCleanMoviesRidgeFlatRegressor(maxim = 5, minim = 1),\n",
    "                AllMovieRegressor(model = \"auto_keras\", pca_n_components = 20, verbose=1),\n",
    "#               DaysToRateTargetMovieRegressor(),\n",
    "#               DiffInTimeToRateTargetMovieRegressor(),\n",
    "#               AllFeaturesRegressor(10),\n",
    "#               DLRegressor(1)\n",
    "             ]"
   ]
  },
  {
   "cell_type": "markdown",
   "metadata": {},
   "source": [
    "### Perform Benchmark:"
   ]
  },
  {
   "cell_type": "code",
   "execution_count": null,
   "metadata": {
    "scrolled": false
   },
   "outputs": [],
   "source": [
    "from evaluation.evaluator import perform_benchmark\n",
    "\n",
    "perform_benchmark(regressors, n_runs = 1000)"
   ]
  }
 ],
 "metadata": {
  "kernelspec": {
   "display_name": "Python 3",
   "language": "python",
   "name": "python3"
  },
  "language_info": {
   "codemirror_mode": {
    "name": "ipython",
    "version": 3
   },
   "file_extension": ".py",
   "mimetype": "text/x-python",
   "name": "python",
   "nbconvert_exporter": "python",
   "pygments_lexer": "ipython3",
   "version": "3.6.7"
  }
 },
 "nbformat": 4,
 "nbformat_minor": 2
}
